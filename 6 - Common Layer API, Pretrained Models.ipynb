{
 "cells": [
  {
   "cell_type": "markdown",
   "metadata": {},
   "source": [
    "# Common Layer API, Pretrained Models and Other Exercises\n",
    "\n",
    "\n",
    "The idea in this notebook is to use the MNIST classification problem to use a number of different deep learning elements, combine them and experiment with them to get into a full workflow. The linear model used in the previous workshops has been implemented with the linear model itself ($y = mx+b$) is encapsulated in the function `tf_utils.simple_model`. \n",
    "\n",
    "\n",
    "You will primarily be replacing this function with more complex deep learning architectures. Try playing with as many components as you can try different non-linear activations, optimization rules, initializations, layer combinations and auxilliary DL layers like drop out and batch norm. While based in theory, the way deep learning components combine has a large element of experience.\n",
    "\n",
    "### Imports"
   ]
  },
  {
   "cell_type": "code",
   "execution_count": 1,
   "metadata": {},
   "outputs": [],
   "source": [
    "## Imports\n",
    "%load_ext autoreload\n",
    "%autoreload 2\n",
    "%matplotlib inline\n",
    "import matplotlib.pyplot as plt\n",
    "import tensorflow as tf\n",
    "import numpy as np\n",
    "from sklearn.metrics import confusion_matrix\n",
    "\n",
    "import utils\n",
    "import tf_utils"
   ]
  },
  {
   "cell_type": "markdown",
   "metadata": {},
   "source": [
    "### Load Data\n"
   ]
  },
  {
   "cell_type": "code",
   "execution_count": 4,
   "metadata": {},
   "outputs": [
    {
     "name": "stdout",
     "output_type": "stream",
     "text": [
      "Flattened Image Size = \t\t784\n",
      "Image Shape = \t\t\t(28, 28)\n",
      "Number of label classes = \t10\n"
     ]
    }
   ],
   "source": [
    "### load the data \n",
    "mnist = tf.keras.datasets.mnist\n",
    "\n",
    "\n",
    "(x_train, y_train),(x_test, y_test) = mnist.load_data()\n",
    "x_train, x_test = x_train / 255.0, x_test / 255.0\n",
    "\n",
    "\n",
    "num_train = x_train.shape[0]\n",
    "num_test = x_test.shape[0]\n",
    "# The images are stored in one-dimensional arrays of this length.\n",
    "img_size_flat = x_train[0].flatten().shape[0]\n",
    "\n",
    "# Tuple with height and width of images used to reshape arrays.\n",
    "img_shape = x_train[0].shape\n",
    "H,W = img_shape\n",
    "num_classes = len(np.unique(y_train))\n",
    "\n",
    "print(\"Flattened Image Size = \\t\\t{}\".format(img_size_flat))\n",
    "print(\"Image Shape = \\t\\t\\t{}\".format(img_shape))\n",
    "print(\"Number of label classes = \\t{}\".format(num_classes))"
   ]
  },
  {
   "cell_type": "markdown",
   "metadata": {},
   "source": [
    "### Problem Set\n",
    "\n",
    "The below code will write a simple linear model and optimize it with back propogation. Make the following additions to the code.\n",
    "\n",
    "* Add a saver and save the optimized model with a unique name.\n",
    "* Add tensorboard summaries for accuracy and loss and confirm they are being written out\n",
    "* For each of the following functions in  __tf_utils.py__ :\n",
    "    * complete the function \n",
    "    * optimize models using them in place of `tf_utils.simple_model`\n",
    "    * save the optimized model with a unique name\n",
    "    * write out __cost__ and __accuracy__ to tensorboard and compare them to the other models.\n",
    "\n",
    "\n",
    "Functions: `fc_model`,`convolutional_model`,`lstm_model`,`fc_custom_model`"
   ]
  },
  {
   "cell_type": "code",
   "execution_count": 18,
   "metadata": {},
   "outputs": [
    {
     "name": "stdout",
     "output_type": "stream",
     "text": [
      "Accuracy on test-set: 90.9%\n"
     ]
    },
    {
     "data": {
      "image/png": "[encoded data removed]",
      "text/plain": [
       "<Figure size 432x288 with 9 Axes>"
      ]
     },
     "metadata": {},
     "output_type": "display_data"
    }
   ],
   "source": [
    "### Hyper parameters\n",
    "num_iterations = 1000\n",
    "batch_size = 100\n",
    "learning_rate = 0.5\n",
    "display_freq = 100\n",
    "\n",
    "### This will erase the computational graph in memory\n",
    "tf.reset_default_graph()\n",
    "\n",
    "\n",
    "#######################################\n",
    "### define the computational graph ####\n",
    "#######################################\n",
    "with tf.variable_scope('inputs'):\n",
    "    x = tf.placeholder(tf.float32, [None, H,W])\n",
    "    y_true_cls = tf.placeholder(tf.int64, [None])\n",
    "\n",
    "    \n",
    "with tf.variable_scope('model_ops'):\n",
    "    # define model parameters\n",
    "    y_pred,y_pred_cls,logits = tf_utils.simple_model(x,y_true_cls)\n",
    "    \n",
    "    \n",
    "with tf.variable_scope('loss_ops'): \n",
    "    cost = tf_utils.cross_entropy_loss(y_true_cls,logits)\n",
    "\n",
    "with tf.variable_scope('optimization_ops'):\n",
    "    optimizer = tf.train.GradientDescentOptimizer(learning_rate=learning_rate).minimize(cost)\n",
    "\n",
    "with tf.variable_scope('metrics'):\n",
    "    correct_prediction = tf.equal(y_pred_cls, y_true_cls)\n",
    "    accuracy = tf.reduce_mean(tf.cast(correct_prediction, tf.float32))\n",
    "\n",
    "### Add tensor board summaries    \n",
    "with tf.variable_scope('tensorboard'):\n",
    "    pass\n",
    "\n",
    "###########################################################################################\n",
    "###########################################################################################\n",
    "    \n",
    "### CREATE SAVER ###    \n",
    "    \n",
    "### Start a session to train and test the model    \n",
    "with tf.Session() as sess:\n",
    "    ### Initialize model parameters\n",
    "    tf.global_variables_initializer().run()\n",
    "    ### Optimize model parameters \n",
    "    for i in range(num_iterations):\n",
    "        x_batch, y_true_batch, _ = utils.batch_data(x_train,y_train,batch_size=batch_size)\n",
    "        feed_dict = {x: x_batch,\n",
    "                    y_true_cls: y_true_batch}\n",
    "\n",
    "        sess.run(optimizer, feed_dict=feed_dict) \n",
    "        \n",
    "        \n",
    "    ### Output metrics    \n",
    "    feed_dict_test = {x: x_test,\n",
    "                  y_true_cls: y_test}\n",
    "    utils.print_accuracy(sess,accuracy,feed_dict_test)\n",
    "    utils.plot_example_errors(x_test,y_test,sess,[correct_prediction,y_pred_cls],feed_dict_test)\n",
    "    \n",
    "    \n",
    "    \n",
    "    ### SAVE MODEL ###\n",
    "    \n"
   ]
  }
 ],
 "metadata": {
  "kernelspec": {
   "display_name": "Python 3",
   "language": "python",
   "name": "python3"
  },
  "language_info": {
   "codemirror_mode": {
    "name": "ipython",
    "version": 3
   },
   "file_extension": ".py",
   "mimetype": "text/x-python",
   "name": "python",
   "nbconvert_exporter": "python",
   "pygments_lexer": "ipython3",
   "version": "3.7.3"
  }
 },
 "nbformat": 4,
 "nbformat_minor": 2
}
